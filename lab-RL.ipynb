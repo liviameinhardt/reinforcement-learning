{
 "cells": [
  {
   "cell_type": "markdown",
   "metadata": {},
   "source": [
    "# Learning and Intelligent Decision Making"
   ]
  },
  {
   "cell_type": "markdown",
   "metadata": {},
   "source": [
    "## Laboratory: Reinforcement learning\n"
   ]
  },
  {
   "cell_type": "markdown",
   "metadata": {},
   "source": [
    "### 1. The key world domain\n",
    "\n",
    "Consider once again the gridworld domain from the previous lab and which you modeled using a Markov decision problem.\n",
    "\n",
    "<img src=\"maze.png\" width=\"200px\">\n",
    "\n",
    "Recall that:\n",
    "\n",
    "* At each step, the agent may move in any of the four directions -- up, down, left and right.\n",
    "\n",
    "* Movement across a _grey_ cell division succeeds with a $0.8$ probability and fails with a $0.2$ probability. \n",
    "\n",
    "* Movements across colored cell divisions (blue or red) succeed with a $0.8$ probability _but only if the agent has the corresponding colored key_. Otherwise, they fail with probability $1$. \n",
    "\n",
    "* When the movement fails, the agent remains in the same cell. \n",
    "\n",
    "* To get a colored key, the agent simply needs to stand in the corresponding cell. \n",
    "\n",
    "* The goal of the agent is to reach the cell marked with **\"G\"**. \n",
    "\n",
    "Throughout the lab, use $\\gamma=0.99$. As seen in the previous lab, this problem can be modeled as a Markov decision problem $(\\mathcal{X},\\mathcal{A},\\{\\mathbf{P_a}\\},c,\\gamma\\}$ as follows."
   ]
  },
  {
   "cell_type": "code",
   "execution_count": 1,
   "metadata": {
    "scrolled": false
   },
   "outputs": [],
   "source": [
    "# %matplotlib notebook\n",
    "import numpy as np\n",
    "import numpy.linalg as la\n",
    "import matplotlib.pyplot as plt\n",
    "np.set_printoptions(precision=2, suppress=True)\n",
    "\n",
    "# States\n",
    "S = ['1BR', '2', '2R', '2BR', '3', '3R', '3BR', '4', '4R', '4BR', '5', '5R', '5BR', '6BR', '7R', '7BR']\n",
    "\n",
    "# Actions\n",
    "A = ['U', 'D', 'L', 'R']\n",
    "\n",
    "# Transition probabilities\n",
    "U = np.array([[1.0, 0.0, 0.0, 0.0, 0.0, 0.0, 0.0, 0.0, 0.0, 0.0, 0.0, 0.0, 0.0, 0.0, 0.0, 0.0],\n",
    "              [0.0, 1.0, 0.0, 0.0, 0.0, 0.0, 0.0, 0.0, 0.0, 0.0, 0.0, 0.0, 0.0, 0.0, 0.0, 0.0],\n",
    "              [0.0, 0.0, 1.0, 0.0, 0.0, 0.0, 0.0, 0.0, 0.0, 0.0, 0.0, 0.0, 0.0, 0.0, 0.0, 0.0],\n",
    "              [0.0, 0.0, 0.0, 1.0, 0.0, 0.0, 0.0, 0.0, 0.0, 0.0, 0.0, 0.0, 0.0, 0.0, 0.0, 0.0],\n",
    "              [0.0, 0.0, 0.0, 0.0, 1.0, 0.0, 0.0, 0.0, 0.0, 0.0, 0.0, 0.0, 0.0, 0.0, 0.0, 0.0],\n",
    "              [0.0, 0.0, 0.0, 0.0, 0.0, 1.0, 0.0, 0.0, 0.0, 0.0, 0.0, 0.0, 0.0, 0.0, 0.0, 0.0],\n",
    "              [0.0, 0.0, 0.0, 0.0, 0.0, 0.0, 1.0, 0.0, 0.0, 0.0, 0.0, 0.0, 0.0, 0.0, 0.0, 0.0],\n",
    "              [0.0, 0.8, 0.0, 0.0, 0.0, 0.0, 0.0, 0.2, 0.0, 0.0, 0.0, 0.0, 0.0, 0.0, 0.0, 0.0],\n",
    "              [0.0, 0.0, 0.8, 0.0, 0.0, 0.0, 0.0, 0.0, 0.2, 0.0, 0.0, 0.0, 0.0, 0.0, 0.0, 0.0],\n",
    "              [0.0, 0.0, 0.0, 0.8, 0.0, 0.0, 0.0, 0.0, 0.0, 0.2, 0.0, 0.0, 0.0, 0.0, 0.0, 0.0],\n",
    "              [0.0, 0.0, 0.0, 0.0, 0.8, 0.0, 0.0, 0.0, 0.0, 0.0, 0.2, 0.0, 0.0, 0.0, 0.0, 0.0],\n",
    "              [0.0, 0.0, 0.0, 0.0, 0.0, 0.8, 0.0, 0.0, 0.0, 0.0, 0.0, 0.2, 0.0, 0.0, 0.0, 0.0],\n",
    "              [0.0, 0.0, 0.0, 0.0, 0.0, 0.0, 0.8, 0.0, 0.0, 0.0, 0.0, 0.0, 0.2, 0.0, 0.0, 0.0],\n",
    "              [0.0, 0.0, 0.0, 0.0, 0.0, 0.0, 0.0, 0.0, 0.0, 0.0, 0.0, 0.0, 0.0, 1.0, 0.0, 0.0],\n",
    "              [0.0, 0.0, 0.0, 0.0, 0.0, 0.0, 0.0, 0.0, 0.8, 0.0, 0.0, 0.0, 0.0, 0.0, 0.2, 0.0],\n",
    "              [0.0, 0.0, 0.0, 0.0, 0.0, 0.0, 0.0, 0.0, 0.0, 0.8, 0.0, 0.0, 0.0, 0.0, 0.0, 0.2]])\n",
    "\n",
    "D = np.array([[1.0, 0.0, 0.0, 0.0, 0.0, 0.0, 0.0, 0.0, 0.0, 0.0, 0.0, 0.0, 0.0, 0.0, 0.0, 0.0],\n",
    "              [0.0, 0.2, 0.0, 0.0, 0.0, 0.0, 0.0, 0.8, 0.0, 0.0, 0.0, 0.0, 0.0, 0.0, 0.0, 0.0],\n",
    "              [0.0, 0.0, 0.2, 0.0, 0.0, 0.0, 0.0, 0.0, 0.8, 0.0, 0.0, 0.0, 0.0, 0.0, 0.0, 0.0],\n",
    "              [0.0, 0.0, 0.0, 0.2, 0.0, 0.0, 0.0, 0.0, 0.0, 0.8, 0.0, 0.0, 0.0, 0.0, 0.0, 0.0],\n",
    "              [0.0, 0.0, 0.0, 0.0, 0.2, 0.0, 0.0, 0.0, 0.0, 0.0, 0.8, 0.0, 0.0, 0.0, 0.0, 0.0],\n",
    "              [0.0, 0.0, 0.0, 0.0, 0.0, 0.2, 0.0, 0.0, 0.0, 0.0, 0.0, 0.8, 0.0, 0.0, 0.0, 0.0],\n",
    "              [0.0, 0.0, 0.0, 0.0, 0.0, 0.0, 0.2, 0.0, 0.0, 0.0, 0.0, 0.0, 0.8, 0.0, 0.0, 0.0],\n",
    "              [0.0, 0.0, 0.0, 0.0, 0.0, 0.0, 0.0, 0.2, 0.0, 0.0, 0.0, 0.0, 0.0, 0.0, 0.8, 0.0],\n",
    "              [0.0, 0.0, 0.0, 0.0, 0.0, 0.0, 0.0, 0.0, 0.2, 0.0, 0.0, 0.0, 0.0, 0.0, 0.8, 0.0],\n",
    "              [0.0, 0.0, 0.0, 0.0, 0.0, 0.0, 0.0, 0.0, 0.0, 0.2, 0.0, 0.0, 0.0, 0.0, 0.0, 0.8],\n",
    "              [0.0, 0.0, 0.0, 0.0, 0.0, 0.0, 0.0, 0.0, 0.0, 0.0, 1.0, 0.0, 0.0, 0.0, 0.0, 0.0],\n",
    "              [0.0, 0.0, 0.0, 0.0, 0.0, 0.0, 0.0, 0.0, 0.0, 0.0, 0.0, 1.0, 0.0, 0.0, 0.0, 0.0],\n",
    "              [0.0, 0.0, 0.0, 0.0, 0.0, 0.0, 0.0, 0.0, 0.0, 0.0, 0.0, 0.0, 1.0, 0.0, 0.0, 0.0],\n",
    "              [0.0, 0.0, 0.0, 0.0, 0.0, 0.0, 0.0, 0.0, 0.0, 0.0, 0.0, 0.0, 0.0, 1.0, 0.0, 0.0],\n",
    "              [0.0, 0.0, 0.0, 0.0, 0.0, 0.0, 0.0, 0.0, 0.0, 0.0, 0.0, 0.0, 0.0, 0.0, 1.0, 0.0],\n",
    "              [0.0, 0.0, 0.0, 0.0, 0.0, 0.0, 0.0, 0.0, 0.0, 0.0, 0.0, 0.0, 0.0, 0.0, 0.0, 1.0]])\n",
    "\n",
    "L = np.array([[1.0, 0.0, 0.0, 0.0, 0.0, 0.0, 0.0, 0.0, 0.0, 0.0, 0.0, 0.0, 0.0, 0.0, 0.0, 0.0],\n",
    "              [0.0, 1.0, 0.0, 0.0, 0.0, 0.0, 0.0, 0.0, 0.0, 0.0, 0.0, 0.0, 0.0, 0.0, 0.0, 0.0],\n",
    "              [0.8, 0.0, 0.2, 0.0, 0.0, 0.0, 0.0, 0.0, 0.0, 0.0, 0.0, 0.0, 0.0, 0.0, 0.0, 0.0],\n",
    "              [0.8, 0.0, 0.0, 0.2, 0.0, 0.0, 0.0, 0.0, 0.0, 0.0, 0.0, 0.0, 0.0, 0.0, 0.0, 0.0],\n",
    "              [0.0, 0.8, 0.0, 0.0, 0.2, 0.0, 0.0, 0.0, 0.0, 0.0, 0.0, 0.0, 0.0, 0.0, 0.0, 0.0],\n",
    "              [0.0, 0.0, 0.8, 0.0, 0.0, 0.2, 0.0, 0.0, 0.0, 0.0, 0.0, 0.0, 0.0, 0.0, 0.0, 0.0],\n",
    "              [0.0, 0.0, 0.0, 0.8, 0.0, 0.0, 0.2, 0.0, 0.0, 0.0, 0.0, 0.0, 0.0, 0.0, 0.0, 0.0],\n",
    "              [0.0, 0.0, 0.0, 0.0, 0.0, 0.0, 0.0, 1.0, 0.0, 0.0, 0.0, 0.0, 0.0, 0.0, 0.0, 0.0],\n",
    "              [0.0, 0.0, 0.0, 0.0, 0.0, 0.0, 0.0, 0.0, 1.0, 0.0, 0.0, 0.0, 0.0, 0.0, 0.0, 0.0],\n",
    "              [0.0, 0.0, 0.0, 0.0, 0.0, 0.0, 0.0, 0.0, 0.0, 1.0, 0.0, 0.0, 0.0, 0.0, 0.0, 0.0],\n",
    "              [0.0, 0.0, 0.0, 0.0, 0.0, 0.0, 0.0, 0.8, 0.0, 0.0, 0.2, 0.0, 0.0, 0.0, 0.0, 0.0],\n",
    "              [0.0, 0.0, 0.0, 0.0, 0.0, 0.0, 0.0, 0.0, 0.8, 0.0, 0.0, 0.2, 0.0, 0.0, 0.0, 0.0],\n",
    "              [0.0, 0.0, 0.0, 0.0, 0.0, 0.0, 0.0, 0.0, 0.0, 0.8, 0.0, 0.0, 0.2, 0.0, 0.0, 0.0],\n",
    "              [0.0, 0.0, 0.0, 0.0, 0.0, 0.0, 0.0, 0.0, 0.0, 0.0, 0.0, 0.0, 0.8, 0.2, 0.0, 0.0],\n",
    "              [0.0, 0.0, 0.0, 0.0, 0.0, 0.0, 0.0, 0.0, 0.0, 0.0, 0.0, 0.0, 0.0, 0.0, 1.0, 0.0],\n",
    "              [0.0, 0.0, 0.0, 0.0, 0.0, 0.0, 0.0, 0.0, 0.0, 0.0, 0.0, 0.0, 0.0, 0.0, 0.0, 1.0]])\n",
    "\n",
    "R = np.array([[0.2, 0.0, 0.0, 0.8, 0.0, 0.0, 0.0, 0.0, 0.0, 0.0, 0.0, 0.0, 0.0, 0.0, 0.0, 0.0],\n",
    "              [0.0, 0.2, 0.0, 0.0, 0.8, 0.0, 0.0, 0.0, 0.0, 0.0, 0.0, 0.0, 0.0, 0.0, 0.0, 0.0],\n",
    "              [0.0, 0.0, 0.2, 0.0, 0.0, 0.8, 0.0, 0.0, 0.0, 0.0, 0.0, 0.0, 0.0, 0.0, 0.0, 0.0],\n",
    "              [0.0, 0.0, 0.0, 0.2, 0.0, 0.0, 0.8, 0.0, 0.0, 0.0, 0.0, 0.0, 0.0, 0.0, 0.0, 0.0],\n",
    "              [0.0, 0.0, 0.0, 0.0, 1.0, 0.0, 0.0, 0.0, 0.0, 0.0, 0.0, 0.0, 0.0, 0.0, 0.0, 0.0],\n",
    "              [0.0, 0.0, 0.0, 0.0, 0.0, 1.0, 0.0, 0.0, 0.0, 0.0, 0.0, 0.0, 0.0, 0.0, 0.0, 0.0],\n",
    "              [0.0, 0.0, 0.0, 0.0, 0.0, 0.0, 1.0, 0.0, 0.0, 0.0, 0.0, 0.0, 0.0, 0.0, 0.0, 0.0],\n",
    "              [0.0, 0.0, 0.0, 0.0, 0.0, 0.0, 0.0, 0.2, 0.0, 0.0, 0.8, 0.0, 0.0, 0.0, 0.0, 0.0],\n",
    "              [0.0, 0.0, 0.0, 0.0, 0.0, 0.0, 0.0, 0.0, 0.2, 0.0, 0.0, 0.8, 0.0, 0.0, 0.0, 0.0],\n",
    "              [0.0, 0.0, 0.0, 0.0, 0.0, 0.0, 0.0, 0.0, 0.0, 0.2, 0.0, 0.0, 0.8, 0.0, 0.0, 0.0],\n",
    "              [0.0, 0.0, 0.0, 0.0, 0.0, 0.0, 0.0, 0.0, 0.0, 0.0, 1.0, 0.0, 0.0, 0.0, 0.0, 0.0],\n",
    "              [0.0, 0.0, 0.0, 0.0, 0.0, 0.0, 0.0, 0.0, 0.0, 0.0, 0.0, 1.0, 0.0, 0.0, 0.0, 0.0],\n",
    "              [0.0, 0.0, 0.0, 0.0, 0.0, 0.0, 0.0, 0.0, 0.0, 0.0, 0.0, 0.0, 0.2, 0.8, 0.0, 0.0],\n",
    "              [0.0, 0.0, 0.0, 0.0, 0.0, 0.0, 0.0, 0.0, 0.0, 0.0, 0.0, 0.0, 0.0, 1.0, 0.0, 0.0],\n",
    "              [0.0, 0.0, 0.0, 0.0, 0.0, 0.0, 0.0, 0.0, 0.0, 0.0, 0.0, 0.0, 0.0, 0.0, 1.0, 0.0],\n",
    "              [0.0, 0.0, 0.0, 0.0, 0.0, 0.0, 0.0, 0.0, 0.0, 0.0, 0.0, 0.0, 0.0, 0.0, 0.0, 1.0]])\n",
    "\n",
    "P = [U, D, L, R]\n",
    "\n",
    "# Reward function\n",
    "             \n",
    "Rw = np.array([[0.0, 0.0, 0.0, 0.0],\n",
    "               [0.0, 0.0, 0.0, 0.0],\n",
    "               [0.0, 0.0, 0.0, 0.0],\n",
    "               [0.0, 0.0, 0.0, 0.0],\n",
    "               [0.0, 0.0, 0.0, 0.0],\n",
    "               [0.0, 0.0, 0.0, 0.0],\n",
    "               [0.0, 0.0, 0.0, 0.0],\n",
    "               [0.0, 0.0, 0.0, 0.0],\n",
    "               [0.0, 0.0, 0.0, 0.0],\n",
    "               [0.0, 0.0, 0.0, 0.0],\n",
    "               [0.0, 0.0, 0.0, 0.0],\n",
    "               [0.0, 0.0, 0.0, 0.0],\n",
    "               [0.0, 0.0, 0.0, 0.0],\n",
    "               [1.0, 1.0, 1.0, 1.0],\n",
    "               [0.0, 0.0, 0.0, 0.0],\n",
    "               [0.0, 0.0, 0.0, 0.0]])\n",
    "\n",
    "# Discount rate\n",
    "\n",
    "gamma = 0.99"
   ]
  },
  {
   "cell_type": "markdown",
   "metadata": {},
   "source": [
    "---\n",
    "\n",
    "#### Activity 1.        \n",
    "\n",
    "Compute the optimal $Q$-function for the MDP defined above using value iteration. As your stopping condition, use an error between iterations smaller than `1e-8`.\n",
    "\n",
    "---"
   ]
  },
  {
   "cell_type": "code",
   "execution_count": 2,
   "metadata": {
    "scrolled": false
   },
   "outputs": [
    {
     "name": "stdout",
     "output_type": "stream",
     "text": [
      "Concluded in 2041 iterations.\n",
      "Qopt = \n",
      "[[ 94.15  94.15  94.15  95.1 ]\n",
      " [ 88.43  89.32  88.43  87.55]\n",
      " [ 92.98  92.05  93.92  92.05]\n",
      " [ 95.34  96.31  94.39  96.31]\n",
      " [ 87.33  88.21  88.21  87.33]\n",
      " [ 91.82  90.9   92.75  91.82]\n",
      " [ 96.55  97.52  95.58  96.55]\n",
      " [ 88.65  90.45  89.55  88.65]\n",
      " [ 92.75  90.9   91.82  90.9 ]\n",
      " [ 95.58  95.58  96.55  97.52]\n",
      " [ 87.55  88.43  89.32  88.43]\n",
      " [ 91.59  90.68  91.59  90.68]\n",
      " [ 96.79  97.77  96.79  98.75]\n",
      " [100.   100.    99.01 100.  ]\n",
      " [ 91.59  90.68  90.68  90.68]\n",
      " [ 96.31  95.34  95.34  95.34]]\n",
      "Optimal policy:\n",
      "State 1BR - R\n",
      "State 2 - D\n",
      "State 2R - L\n",
      "State 2BR - D\n",
      "State 3 - D\n",
      "State 3R - L\n",
      "State 3BR - D\n",
      "State 4 - D\n",
      "State 4R - U\n",
      "State 4BR - R\n",
      "State 5 - L\n",
      "State 5R - U\n",
      "State 5BR - R\n",
      "State 6BR - U\n",
      "State 7R - U\n",
      "State 7BR - U\n"
     ]
    }
   ],
   "source": [
    "nS = len(S)\n",
    "nA = len(A)\n",
    "\n",
    "Q = np.zeros((nS, nA))\n",
    "error = 1\n",
    "i = 0\n",
    "\n",
    "while error > 1e-8:\n",
    "    \n",
    "    Qnew = np.zeros((nS, nA))\n",
    "    V = np.max(Q, axis=1)\n",
    "\n",
    "    for a in range(nA):\n",
    "        Qnew[:, a] = Rw[:, a] + gamma * P[a].dot(V)\n",
    "    \n",
    "    error = la.norm(Q - Qnew)\n",
    "    i = i + 1\n",
    "    Q = Qnew\n",
    "    \n",
    "Qopt = Q\n",
    "Pol = np.argmax(Qopt, axis=1)\n",
    "\n",
    "print('Concluded in', i, 'iterations.')\n",
    "\n",
    "print('Qopt = ')\n",
    "print(Qopt)\n",
    "\n",
    "print('Optimal policy:')\n",
    "\n",
    "for i in range(len(S)):\n",
    "    print('State', S[i], '-', A[Pol[i]])"
   ]
  },
  {
   "cell_type": "markdown",
   "metadata": {},
   "source": [
    "---\n",
    "\n",
    "#### Activity 2.        \n",
    "\n",
    "Write down a Python function that, given a Q-function $Q$ and a state $s$, selects an action using the $\\epsilon$-greedy policy. Specifically, your function should receive as input a Q-function $Q$, a state $s$, and a probability $\\epsilon$ with a default value `eps=0.1`. Your function should return:\n",
    "\n",
    "* a random action with a probability $\\\\epsilon$,\n",
    "* an action corresponding to the maximum value of `Q` with a probability $1-\\epsilon$. If more than one action has the same maximum `Q` value, the function should select one of these actions **uniformly at random**.\n",
    "\n",
    "---"
   ]
  },
  {
   "cell_type": "code",
   "execution_count": 3,
   "metadata": {},
   "outputs": [],
   "source": [
    "def egreedy(q, s, eps=0.1):\n",
    "    '''\n",
    "        egreedy(q, s) samples the eps-greedy policy w.r.t. q in\n",
    "        state s.\n",
    "        \n",
    "        :param q: ndarray (Q-function)\n",
    "        :param s: int (state index)\n",
    "        :return a: int (action)\n",
    "    '''\n",
    "    \n",
    "    nA = q.shape[1] #numero de acoes\n",
    "    \n",
    "    # Greedy policy\n",
    "    qmax = q.max(axis=1, keepdims=True)\n",
    "    pol = np.isclose(q, qmax, atol=1e-10, rtol=1e-10).astype(int)\n",
    "    #print(pol)\n",
    "    pol = eps / nA + (1 - eps) * pol / pol.sum(axis = 1, keepdims = True)\n",
    "    #print(pol)\n",
    "    \n",
    "    return np.random.choice(nA, p=pol[s, :])"
   ]
  },
  {
   "cell_type": "markdown",
   "metadata": {
    "collapsed": true
   },
   "source": [
    "### 2. Model-based learning\n",
    "\n",
    "You will now run the model-based learning algorithm discussed in class, and evaluate its learning performance."
   ]
  },
  {
   "cell_type": "markdown",
   "metadata": {},
   "source": [
    "---\n",
    "\n",
    "#### Activity 3.        \n",
    "\n",
    "Run the model-based reinforcement learning algorithm discussed in class to compute $Q^*$ for $5,000$ iterations. Initialize each transition probability matrix as the identity and the reward function as all-zeros. Use an $\\epsilon$-greedy policy with $\\epsilon=0.1$ (use the function from Activity 2). Note that, at each step,\n",
    "\n",
    "* You will need to select an action according to the $\\epsilon$-greedy policy;\n",
    "* With the state and action, you will then compute the reward and generate the next state; \n",
    "* With this transition information (state, action, reward, next state), you can now perform an update. \n",
    "* When updating the components $(s,a)$ of the model, use the step-size\n",
    "\n",
    "$$\\alpha_t=\\frac{1}{N_t(s,a)+1},$$\n",
    "\n",
    "where $N_t(s,a)$ is the number of visits to the pair $(s,a)$ up to time step $t$.\n",
    "\n",
    "In order to ensure that your algorithm visits every state and action a sufficient number of times, after the agent reaches the goal cell, make one further step, the corresponding update, and then reset the position of the agent to a random state in the environment.\n",
    "\n",
    "Plot the norm $\\|Q^*-Q^{(k)}\\|$ every iteration of your method, where $Q^*$ is the optimal $Q$-function computed in Activity 1.\n",
    "\n",
    "**Note:** The simulation may take a bit. Don't despair.\n",
    "\n",
    "---"
   ]
  },
  {
   "cell_type": "code",
   "execution_count": 4,
   "metadata": {
    "scrolled": false
   },
   "outputs": [
    {
     "data": {
      "image/png": "[encoded data removed]",
      "text/plain": [
       "<Figure size 640x480 with 1 Axes>"
      ]
     },
     "metadata": {},
     "output_type": "display_data"
    }
   ],
   "source": [
    "STEPS = 50000\n",
    "\n",
    "# Initialize model\n",
    "Pest = []\n",
    "for a in range(nA):\n",
    "    Pest += [np.eye(nS, nS)]\n",
    "\n",
    "Rwest = np.zeros((nS, nA))\n",
    "\n",
    "# Initialize Q-values and counter\n",
    "Qmbl = np.zeros((nS, nA))\n",
    "nmbl = np.ones((nS, nA))\n",
    "\n",
    "# Initialize parameters\n",
    "vmbl = np.zeros(STEPS)\n",
    "\n",
    "# Initialize state\n",
    "st = np.random.choice(nS)\n",
    "#st = 3\n",
    "\n",
    "# Run learning cycle\n",
    "for t in range(STEPS):\n",
    "    \n",
    "    at = egreedy(Qmbl, st)\n",
    "        \n",
    "    # Reward (simulate)\n",
    "    rt = Rw[st, at]\n",
    "    \n",
    "    # Next state (simulate)\n",
    "    st1 = np.random.choice(nS, p=P[at][st, :])\n",
    "    \n",
    "    # Update estimated transitions\n",
    "    # 𝑃*+, 𝑠’  𝑠*,𝑎*) = ]𝑃* 𝑠’  𝑠*,𝑎*) +𝛼 𝕀 𝑠*+, = 𝑠’ − ]𝑃* 𝑠’  𝑠*,𝑎*))\n",
    "    Pest[at][st, :] *= (1 - 1 / (nmbl[st, at] + 1))  # (1 - 1/N+1)\n",
    "    Pest[at][st, st1] += 1 / (nmbl[st, at] + 1)  # \n",
    "    \n",
    "    # Update estimated reward\n",
    "    Rwest[st, at] = Rwest[st, at] + 1 / (nmbl[st, at] + 1) * (rt - Rwest[st, at])\n",
    "    \n",
    "    # Update Q\n",
    "    Qmbl[st, at] = Rwest[st, at] + gamma * Pest[at][st, :].dot(np.max(Qmbl, axis=1))\n",
    "    \n",
    "    if rt == 1.0:\n",
    "        st = np.random.choice(nS)\n",
    "    else:\n",
    "        st = st1\n",
    "        \n",
    "    nmbl[st, at] += 1\n",
    "    \n",
    "    vmbl[t] = la.norm(Qmbl - Qopt)\n",
    "                \n",
    "plt.figure()\n",
    "plt.plot(vmbl)\n",
    "plt.xlabel('N. iterations')\n",
    "plt.ylabel(r'$||Q^*-Q_t||$')\n",
    "plt.show()"
   ]
  },
  {
   "cell_type": "markdown",
   "metadata": {},
   "source": [
    "### 3. Temporal-difference learning\n",
    "\n",
    "You will now run both Q-learning and SARSA, and compare their learning performance with the model-based method just studied."
   ]
  },
  {
   "cell_type": "markdown",
   "metadata": {},
   "source": [
    "---\n",
    "\n",
    "#### Activity 4.        \n",
    "\n",
    "Repeat Activity 3 but using the $Q$-learning algorithm with a learning rate $\\alpha=0.3$.\n",
    "\n",
    "---"
   ]
  },
  {
   "cell_type": "code",
   "execution_count": 23,
   "metadata": {
    "scrolled": false
   },
   "outputs": [
    {
     "data": {
      "image/png": "[encoded data removed]",
      "text/plain": [
       "<Figure size 640x480 with 1 Axes>"
      ]
     },
     "metadata": {},
     "output_type": "display_data"
    }
   ],
   "source": [
    "STEPS = 50000\n",
    "alfa = 0.3\n",
    "gamma = 0.99\n",
    "\n",
    "# Initialize Q-values and counter\n",
    "Qmbl = np.zeros((nS, nA))\n",
    "\n",
    "vmbl = np.zeros(STEPS)\n",
    "\n",
    "# Initialize state\n",
    "st = np.random.choice(nS)\n",
    "\n",
    "# Run learning cycle\n",
    "for t in range(STEPS):\n",
    "    \n",
    "    at = egreedy(Qmbl, st)\n",
    "        \n",
    "    # Reward (simulate)\n",
    "    rt = Rw[st, at]\n",
    "    \n",
    "    # Next state (simulate)\n",
    "    st1 = np.random.choice(nS, p=P[at][st, :])\n",
    "    \n",
    "    # Update Q\n",
    "    Qmbl[st, at] = Qmbl[st, at] + alfa*(rt + gamma*np.max(Qmbl[st1]) - Qmbl[st,at] )\n",
    "    \n",
    "    if rt == 1.0:\n",
    "        st = np.random.choice(nS)\n",
    "    else:\n",
    "        st = st1\n",
    "        \n",
    "    vmbl[t] = la.norm(Qmbl - Qopt)\n",
    "                \n",
    "                \n",
    "plt.figure()\n",
    "plt.plot(vmbl)\n",
    "plt.xlabel('N. iterations')\n",
    "plt.ylabel(r'$||Q^*-Q_t||$')\n",
    "plt.show()"
   ]
  },
  {
   "cell_type": "markdown",
   "metadata": {},
   "source": [
    "---\n",
    "\n",
    "#### Activity 5.\n",
    "\n",
    "Repeat Activity 4 but using the SARSA algorithm.\n",
    "\n",
    "---"
   ]
  },
  {
   "cell_type": "code",
   "execution_count": 28,
   "metadata": {},
   "outputs": [
    {
     "data": {
      "image/png": "[encoded data removed]",
      "text/plain": [
       "<Figure size 640x480 with 1 Axes>"
      ]
     },
     "metadata": {},
     "output_type": "display_data"
    }
   ],
   "source": [
    "STEPS = 50000\n",
    "alfa = 0.3\n",
    "gamma = 0.99\n",
    "\n",
    "# Initialize Q-values and counter\n",
    "Qmbl = np.zeros((nS, nA))\n",
    "\n",
    "vmbl = np.zeros(STEPS)\n",
    "\n",
    "# Initialize state\n",
    "st = np.random.choice(nS)\n",
    "at = egreedy(Qmbl, st)\n",
    "\n",
    "# Run learning cycle\n",
    "for t in range(STEPS):\n",
    "    \n",
    "\n",
    "    # Reward (simulate)\n",
    "    rt = Rw[st, at]\n",
    "    \n",
    "    # Next state (simulate)\n",
    "    st1 = np.random.choice(nS, p=P[at][st, :])\n",
    "\n",
    "    at1 = egreedy(Qmbl, st)\n",
    "    \n",
    "    # Update Q\n",
    "    Qmbl[st, at] = Qmbl[st, at] + alfa*(rt + gamma*Qmbl[st1,at1] - Qmbl[st,at] )\n",
    "    \n",
    "    if rt == 1.0:\n",
    "        st = np.random.choice(nS)\n",
    "        at = egreedy(Qmbl, st)\n",
    "\n",
    "    else:\n",
    "        st = st1\n",
    "        at =  at1\n",
    "        \n",
    "    vmbl[t] = la.norm(Qmbl - Qopt)\n",
    "                \n",
    "plt.figure()\n",
    "plt.plot(vmbl)\n",
    "plt.xlabel('N. iterations')\n",
    "plt.ylabel(r'$||Q^*-Q_t||$')\n",
    "plt.show()"
   ]
  },
  {
   "cell_type": "markdown",
   "metadata": {},
   "source": [
    "---\n",
    "\n",
    "#### Activity 6.\n",
    "\n",
    "Discuss the differences observed between the performance of the three methods.\n",
    "\n",
    "---"
   ]
  },
  {
   "cell_type": "markdown",
   "metadata": {},
   "source": [
    "Write you answer here"
   ]
  }
 ],
 "metadata": {
  "celltoolbar": "Raw Cell Format",
  "kernelspec": {
   "display_name": "Python 3 (ipykernel)",
   "language": "python",
   "name": "python3"
  },
  "language_info": {
   "codemirror_mode": {
    "name": "ipython",
    "version": 3
   },
   "file_extension": ".py",
   "mimetype": "text/x-python",
   "name": "python",
   "nbconvert_exporter": "python",
   "pygments_lexer": "ipython3",
   "version": "3.11.4"
  }
 },
 "nbformat": 4,
 "nbformat_minor": 1
}
